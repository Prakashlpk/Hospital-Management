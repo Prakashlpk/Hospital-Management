{
  "nbformat": 4,
  "nbformat_minor": 0,
  "metadata": {
    "colab": {
      "provenance": [],
      "authorship_tag": "ABX9TyNr59++KdHPkdtwK/OTaOXD",
      "include_colab_link": true
    },
    "kernelspec": {
      "name": "python3",
      "display_name": "Python 3"
    },
    "language_info": {
      "name": "python"
    }
  },
  "cells": [
    {
      "cell_type": "markdown",
      "metadata": {
        "id": "view-in-github",
        "colab_type": "text"
      },
      "source": [
        "<a href=\"https://colab.research.google.com/github/Prakashlpk/Hospital-Management/blob/main/HospitalManagement.ipynb\" target=\"_parent\"><img src=\"https://colab.research.google.com/assets/colab-badge.svg\" alt=\"Open In Colab\"/></a>"
      ]
    },
    {
      "cell_type": "code",
      "execution_count": 2,
      "metadata": {
        "id": "2nnjKoy1HYPw"
      },
      "outputs": [],
      "source": [
        "class hospital:\n",
        "  def __init__(self,*data):\n",
        "      self.data = [i for i in data]\n",
        "      self.ED_count=5\n",
        "      self.ICU_count=2\n",
        "      self.Gen_ward_count=10\n",
        "      self.ED=[]\n",
        "      self.ICU=[]\n",
        "      self.General_Ward=[]\n",
        "  def show_specialities(self):\n",
        "      print(\"Available specialities are\", self.data)\n",
        "  def bed_availability(self):\n",
        "      print(\"Available beds in ED: \",self.ED_count)\n",
        "      print(\"Available beds in ICU: \",self.ICU_count)\n",
        "      print(\"Available beds in General Ward: \",self.Gen_ward_count)\n",
        "  def patient_status(self):\n",
        "      if patient_name in self.ED:\n",
        "        print(\"The patient is receiving treatment in ED\")\n",
        "      elif patient_name in self.ICU:\n",
        "        print(\"The patient is receiving treatment in ICU\")\n",
        "      elif patient_name in self.General_Ward:\n",
        "        print(\"The patient is receiving treatment in General Ward\")\n",
        "      else:\n",
        "        print(\"The patient has been discharged\")\n",
        "\n",
        "\n",
        "class doctor:\n",
        "  def __init__(self,*doc):\n",
        "      self.doc=[j for j in doc]\n",
        "  def requestdoc(self):\n",
        "      doct = input(\"enter doctor name : \")\n",
        "      return doct\n",
        "  def disease_severity(self):\n",
        "      print(\"1.High\")\n",
        "      print(\"2.Moderate\")\n",
        "      print(\"3.Low\")\n",
        "      print(\"4.Normal\")\n",
        "      severity=int(input(\"Enter the severity: \"))\n",
        "      if severity==1 and LPK_Hospital.ED_count>0:\n",
        "        print(\"Admitting the patient in Emergency Department\")\n",
        "        LPK_Hospital.ED_count=LPK_Hospital.ED_count-1\n",
        "        LPK_Hospital.ED.append(patient_name)\n",
        "      elif severity==2 and LPK_Hospital.ICU_count>0:\n",
        "        print(\"Admitting the patient to ICU\")\n",
        "        LPK_Hospital.ICU_count=LPK_Hospital.ICU_count-1\n",
        "        LPK_Hospital.ICU.append(patient_name)\n",
        "      elif severity==3 and LPK_Hospital.Gen_ward_count>0:\n",
        "        print(\"Admitting the patient in General Ward\")\n",
        "        LPK_Hospital.Gen_ward_count=LPK_Hospital.Gen_ward_count-1\n",
        "        LPK_Hospital.General_Ward.append(patient_name)\n",
        "      elif severity==4:\n",
        "        print(\"The patient does not require an admission and can be discharged\")\n",
        "      else:\n",
        "        print(\"Patient to be kept in Day Care Ward until bed is available\")\n",
        "  def recovery(self):\n",
        "      print(\"1.Excellent\")\n",
        "      print(\"2.Good\")\n",
        "      print(\"3.Moderate\")\n",
        "      print(\"4.Low\")\n",
        "      Recovery=int(input(\"recovery per doctor: \"))\n",
        "      if Recovery ==1:\n",
        "        print(\"The patient can be discharged\")\n",
        "      else:\n",
        "        print(\"The treatment continues\")\n",
        "  def discharge_instructions(self):\n",
        "       print(\"The patient is discharged in stable condition with a followup after 1 week\")\n",
        "       if patient_name in LPK_Hospital.ED:\n",
        "        LPK_Hospital.ED.remove(patient_name)\n",
        "        LPK_Hospital.ED_count = LPK_Hospital.ED_count+1\n",
        "       elif patient_name in LPK_Hospital.ICU:\n",
        "        LPK_Hospital.ICU.remove(patient_name)\n",
        "        LPK_Hospital.ICU_count=LPK_Hospital.ICU_count+1\n",
        "       elif patient_name in LPK_Hospital.General_Ward:\n",
        "        LPK_Hospital.General_Ward.remove(patient_name)\n",
        "        LPK_Hospital.Gen_ward_count=LPK_Hospital.Gen_ward_count+1\n",
        "\n",
        "class patient:\n",
        "  def __init__(self):\n",
        "    self.patient_details = {}\n",
        "  def show_patientdetails(self):\n",
        "      print(\"Patient Details \",self.patient_details)\n",
        "  def patientname(self):\n",
        "      name = input(\"enter patient name : \")\n",
        "      return name\n",
        "  def patientage(self):\n",
        "      age=input(\"enter patient age:\" )\n",
        "      return age\n",
        "  def patientaddress(self):\n",
        "      address=input(\"enter patient address:\")\n",
        "      return address\n"
      ]
    },
    {
      "cell_type": "code",
      "source": [
        "LPK_Hospital=hospital(\"General\",\"Cardiology\", \"Pulmonology\",\"Orthopedic\",\"Pediatrics\",\"Gastroenterology\",\"Nephrology\",\"Dermatology\")\n",
        "Doctors=doctor(\"general physician\",\"cardiologist\",\"pulmonologist\",\"orthopedist\",\"pediatrician\")\n",
        "Patient=patient()"
      ],
      "metadata": {
        "id": "seNJhIpzH51g"
      },
      "execution_count": 3,
      "outputs": []
    },
    {
      "cell_type": "code",
      "source": [
        "while True:\n",
        "    print(\"1.Show available specialities\")\n",
        "    print(\"2.Enter patient details\")\n",
        "    print(\"3.Show patient details\")\n",
        "    print(\"4.Check doctor availability\")\n",
        "    print(\"5.Bed availability\")\n",
        "    print(\"6.Severity of disease per initial examination\")\n",
        "    print(\"7.Patient Status\")\n",
        "    print(\"8.Doctor's Impression\")\n",
        "    print(\"9.Discharge Instructions\")\n",
        "    print(\"10.Exit\")\n",
        "    choice = int(input(\"enter your choice : \"))\n",
        "    if choice == 1:\n",
        "      LPK_Hospital.show_specialities()\n",
        "    elif choice==2:\n",
        "      patient_name=Patient.patientname()\n",
        "      patient_age=Patient.patientage()\n",
        "      patient_address=Patient.patientaddress()\n",
        "      Patient.patient_details.update({\"Patient Name\":patient_name,\"Patient Age\":patient_age,\"Patient Address\":patient_address})\n",
        "    elif choice==3:\n",
        "      Patient.show_patientdetails()\n",
        "    elif choice==4:\n",
        "      requesteddoctor = Doctors.requestdoc()\n",
        "      if requesteddoctor in Doctors.doc:\n",
        "          print(\"Doctor is available\")\n",
        "      else:\n",
        "          print(\"Doctor is not available\")\n",
        "    elif choice==5:\n",
        "      LPK_Hospital.bed_availability()\n",
        "    elif choice==6:\n",
        "        Doctors.disease_severity()\n",
        "    elif choice==7:\n",
        "        LPK_Hospital.patient_status()\n",
        "    elif choice==8:\n",
        "        Doctors.recovery()\n",
        "    elif choice==9:\n",
        "      Doctors.discharge_instructions()\n",
        "      Patient.patient_details.pop(\"Patient Name\")\n",
        "      Patient.patient_details.pop(\"Patient Age\")\n",
        "      Patient.patient_details.pop(\"Patient Address\")\n",
        "    elif choice==10:\n",
        "      break\n"
      ],
      "metadata": {
        "colab": {
          "base_uri": "https://localhost:8080/"
        },
        "id": "K4249vQUH-9i",
        "outputId": "997c38cb-be8a-4e84-b76e-38bda76b8c72"
      },
      "execution_count": 4,
      "outputs": [
        {
          "name": "stdout",
          "output_type": "stream",
          "text": [
            "1.Show available specialities\n",
            "2.Enter patient details\n",
            "3.Show patient details\n",
            "4.Check doctor availability\n",
            "5.Bed availability\n",
            "6.Severity of disease per initial examination\n",
            "7.Patient Status\n",
            "8.Doctor's Impression\n",
            "9.Discharge Instructions\n",
            "10.Exit\n",
            "enter your choice : 1\n",
            "Available specialities are ['General', 'Cardiology', 'Pulmonology', 'Orthopedic', 'Pediatrics', 'Gastroenterology', 'Nephrology', 'Dermatology']\n",
            "1.Show available specialities\n",
            "2.Enter patient details\n",
            "3.Show patient details\n",
            "4.Check doctor availability\n",
            "5.Bed availability\n",
            "6.Severity of disease per initial examination\n",
            "7.Patient Status\n",
            "8.Doctor's Impression\n",
            "9.Discharge Instructions\n",
            "10.Exit\n",
            "enter your choice : 10\n"
          ]
        }
      ]
    },
    {
      "cell_type": "code",
      "source": [],
      "metadata": {
        "id": "D3m_ypvCIFmg"
      },
      "execution_count": null,
      "outputs": []
    }
  ]
}